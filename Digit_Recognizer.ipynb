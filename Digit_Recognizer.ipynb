{
  "nbformat": 4,
  "nbformat_minor": 0,
  "metadata": {
    "colab": {
      "name": "Digit-Recognizer.ipynb",
      "provenance": [],
      "collapsed_sections": [],
      "authorship_tag": "ABX9TyPgiYucHIQaQKediyWf3m+w",
      "include_colab_link": true
    },
    "kernelspec": {
      "name": "python3",
      "display_name": "Python 3"
    },
    "language_info": {
      "name": "python"
    },
    "accelerator": "GPU"
  },
  "cells": [
    {
      "cell_type": "markdown",
      "metadata": {
        "id": "view-in-github",
        "colab_type": "text"
      },
      "source": [
        "<a href=\"https://colab.research.google.com/github/skanda1005/Digit-Recognizer/blob/master/Digit_Recognizer.ipynb\" target=\"_parent\"><img src=\"https://colab.research.google.com/assets/colab-badge.svg\" alt=\"Open In Colab\"/></a>"
      ]
    },
    {
      "cell_type": "code",
      "metadata": {
        "id": "CvTuxNiLfA5o"
      },
      "source": [
        "import numpy as np # linear algebra\n",
        "import pandas as pd # data processing, CSV file I/O (e.g. pd.read_csv)\n",
        "\n",
        "# Input data files are available in the read-only \"../input/\" directory\n",
        "# For example, running this (by clicking run or pressing Shift+Enter) will list all files under the input directory\n",
        "\n",
        "import os\n",
        "for dirname, _, filenames in os.walk('/kaggle/input'):\n",
        "    for filename in filenames:\n",
        "        print(os.path.join(dirname, filename))"
      ],
      "execution_count": 36,
      "outputs": []
    },
    {
      "cell_type": "code",
      "metadata": {
        "id": "nSg8E8O5OB1w"
      },
      "source": [
        "import pandas as pd\n",
        "import numpy as np\n",
        "import matplotlib.pyplot as plt\n",
        "from keras.utils.np_utils import to_categorical"
      ],
      "execution_count": 37,
      "outputs": []
    },
    {
      "cell_type": "code",
      "metadata": {
        "id": "A4UzEMS2OoTL"
      },
      "source": [
        "ds_train = pd.read_csv(\"/content/train.csv\")\n",
        "ds_test = pd.read_csv(\"/content/test.csv\")"
      ],
      "execution_count": 38,
      "outputs": []
    },
    {
      "cell_type": "code",
      "metadata": {
        "id": "WgSi-_9hRbNT"
      },
      "source": [
        "y_train=ds_train.pop('label')\n",
        "x_train=ds_train"
      ],
      "execution_count": 39,
      "outputs": []
    },
    {
      "cell_type": "code",
      "metadata": {
        "id": "sm0yKhotTot3"
      },
      "source": [
        "x_train = x_train.values.reshape(42000,28,28)\n",
        "x_test = ds_test.values.reshape(28000, 28, 28)"
      ],
      "execution_count": 40,
      "outputs": []
    },
    {
      "cell_type": "code",
      "metadata": {
        "id": "g8LZFmvYUydS"
      },
      "source": [
        "x_train=x_train/255.0\n",
        "x_test=x_test/255.0"
      ],
      "execution_count": 41,
      "outputs": []
    },
    {
      "cell_type": "code",
      "metadata": {
        "colab": {
          "base_uri": "https://localhost:8080/"
        },
        "id": "B0mwfUvbfoao",
        "outputId": "54999aec-3e68-4381-e9a0-12d128c733e6"
      },
      "source": [
        "x_train[1].shape"
      ],
      "execution_count": 42,
      "outputs": [
        {
          "output_type": "execute_result",
          "data": {
            "text/plain": [
              "(28, 28)"
            ]
          },
          "metadata": {
            "tags": []
          },
          "execution_count": 42
        }
      ]
    },
    {
      "cell_type": "code",
      "metadata": {
        "colab": {
          "base_uri": "https://localhost:8080/",
          "height": 279
        },
        "id": "OrAbOnPUfMwi",
        "outputId": "9bb09f8d-1c28-4a5e-8828-13dc75e8945b"
      },
      "source": [
        "def show_img(i):\n",
        "    plt.imshow(x_train[i])\n",
        "    plt.xlabel(y_train[i])\n",
        "show_img(0)"
      ],
      "execution_count": 43,
      "outputs": [
        {
          "output_type": "display_data",
          "data": {
            "image/png": "[encoded data removed]",
            "text/plain": [
              "<Figure size 432x288 with 1 Axes>"
            ]
          },
          "metadata": {
            "tags": [],
            "needs_background": "light"
          }
        }
      ]
    },
    {
      "cell_type": "code",
      "metadata": {
        "colab": {
          "base_uri": "https://localhost:8080/"
        },
        "id": "q2dBOdsSUmi5",
        "outputId": "487512b3-acbc-4803-976d-2212e2011729"
      },
      "source": [
        "x_train.shape, y_train.shape"
      ],
      "execution_count": 44,
      "outputs": [
        {
          "output_type": "execute_result",
          "data": {
            "text/plain": [
              "((42000, 28, 28), (42000,))"
            ]
          },
          "metadata": {
            "tags": []
          },
          "execution_count": 44
        }
      ]
    },
    {
      "cell_type": "code",
      "metadata": {
        "colab": {
          "base_uri": "https://localhost:8080/"
        },
        "id": "fdchGHnNhrsr",
        "outputId": "4b11bd40-a8d0-46b9-a0b1-2894a196bad7"
      },
      "source": [
        "x_train_orig=x_train.reshape(-1,28,28,1)\n",
        "x_test_orig=x_test.reshape(-1,28,28,1)\n",
        "y_train=np.array(y_train)\n",
        "label=to_categorical(y_train)\n",
        "label.shape"
      ],
      "execution_count": 45,
      "outputs": [
        {
          "output_type": "execute_result",
          "data": {
            "text/plain": [
              "(42000, 10)"
            ]
          },
          "metadata": {
            "tags": []
          },
          "execution_count": 45
        }
      ]
    },
    {
      "cell_type": "code",
      "metadata": {
        "id": "z8G3wnsuVDL3"
      },
      "source": [
        "from tensorflow.keras.models import Sequential\n",
        "from tensorflow.keras.layers import Conv2D,MaxPooling2D,Flatten,Dense,Dropout"
      ],
      "execution_count": 80,
      "outputs": []
    },
    {
      "cell_type": "code",
      "metadata": {
        "id": "K2bf_C9JWMFK"
      },
      "source": [
        "model=Sequential([\n",
        "    Conv2D(32,(5,5) , activation='relu' , input_shape=(28,28,1)),\n",
        "    MaxPooling2D(pool_size=(2,2)),\n",
        "    \n",
        "    Conv2D(64,(5,5), activation ='relu'),\n",
        "    MaxPooling2D(pool_size=(2,2)),\n",
        "    Dropout(0.25),\n",
        "    \n",
        "    Conv2D(64,(3,3), activation ='relu'),\n",
        "    MaxPooling2D(pool_size=(2,2)),\n",
        "    Dropout(0.25),\n",
        "    \n",
        "    Flatten(),\n",
        "    Dense(64, activation='relu'),\n",
        "    Dense(10, activation='softmax')\n",
        "])"
      ],
      "execution_count": 83,
      "outputs": []
    },
    {
      "cell_type": "code",
      "metadata": {
        "id": "L-0puZE0WOda"
      },
      "source": [
        "#callback = callbacks.EarlyStopping(monitor='loss', patience=5)"
      ],
      "execution_count": 84,
      "outputs": []
    },
    {
      "cell_type": "code",
      "metadata": {
        "id": "luoCMfI-WSzN"
      },
      "source": [
        "model.compile(optimizer='adam',loss='categorical_crossentropy',metrics=['accuracy'])"
      ],
      "execution_count": 85,
      "outputs": []
    },
    {
      "cell_type": "code",
      "metadata": {
        "colab": {
          "base_uri": "https://localhost:8080/"
        },
        "id": "PULRrlP6WU7T",
        "outputId": "59504fb1-d50a-4007-95af-877eed7db1e9"
      },
      "source": [
        "model.fit(x_train_orig, label, epochs=50, batch_size=64)"
      ],
      "execution_count": 86,
      "outputs": [
        {
          "output_type": "stream",
          "text": [
            "Epoch 1/50\n",
            "657/657 [==============================] - 3s 4ms/step - loss: 1.0453 - accuracy: 0.8471\n",
            "Epoch 2/50\n",
            "657/657 [==============================] - 2s 4ms/step - loss: 0.5470 - accuracy: 0.9374\n",
            "Epoch 3/50\n",
            "657/657 [==============================] - 2s 4ms/step - loss: 0.4847 - accuracy: 0.9451\n",
            "Epoch 4/50\n",
            "657/657 [==============================] - 2s 4ms/step - loss: 0.4560 - accuracy: 0.9485\n",
            "Epoch 5/50\n",
            "657/657 [==============================] - 2s 4ms/step - loss: 0.4386 - accuracy: 0.9516\n",
            "Epoch 6/50\n",
            "657/657 [==============================] - 2s 4ms/step - loss: 0.4237 - accuracy: 0.9525\n",
            "Epoch 7/50\n",
            "657/657 [==============================] - 2s 4ms/step - loss: 0.4110 - accuracy: 0.9535\n",
            "Epoch 8/50\n",
            "657/657 [==============================] - 2s 4ms/step - loss: 0.4006 - accuracy: 0.9554\n",
            "Epoch 9/50\n",
            "657/657 [==============================] - 2s 4ms/step - loss: 0.3886 - accuracy: 0.9565\n",
            "Epoch 10/50\n",
            "657/657 [==============================] - 2s 4ms/step - loss: 0.3778 - accuracy: 0.9586\n",
            "Epoch 11/50\n",
            "657/657 [==============================] - 2s 4ms/step - loss: 0.3741 - accuracy: 0.9583\n",
            "Epoch 12/50\n",
            "657/657 [==============================] - 2s 4ms/step - loss: 0.3663 - accuracy: 0.9590\n",
            "Epoch 13/50\n",
            "657/657 [==============================] - 2s 4ms/step - loss: 0.3580 - accuracy: 0.9603\n",
            "Epoch 14/50\n",
            "657/657 [==============================] - 2s 4ms/step - loss: 0.3517 - accuracy: 0.9602\n",
            "Epoch 15/50\n",
            "657/657 [==============================] - 2s 4ms/step - loss: 0.3448 - accuracy: 0.9609\n",
            "Epoch 16/50\n",
            "657/657 [==============================] - 2s 4ms/step - loss: 0.3439 - accuracy: 0.9603\n",
            "Epoch 17/50\n",
            "657/657 [==============================] - 2s 4ms/step - loss: 0.3392 - accuracy: 0.9605\n",
            "Epoch 18/50\n",
            "657/657 [==============================] - 2s 4ms/step - loss: 0.3374 - accuracy: 0.9614\n",
            "Epoch 19/50\n",
            "657/657 [==============================] - 2s 4ms/step - loss: 0.3297 - accuracy: 0.9631\n",
            "Epoch 20/50\n",
            "657/657 [==============================] - 2s 4ms/step - loss: 0.3291 - accuracy: 0.9626\n",
            "Epoch 21/50\n",
            "657/657 [==============================] - 2s 4ms/step - loss: 0.3266 - accuracy: 0.9626\n",
            "Epoch 22/50\n",
            "657/657 [==============================] - 2s 4ms/step - loss: 0.3215 - accuracy: 0.9627\n",
            "Epoch 23/50\n",
            "657/657 [==============================] - 2s 4ms/step - loss: 0.3182 - accuracy: 0.9641\n",
            "Epoch 24/50\n",
            "657/657 [==============================] - 2s 4ms/step - loss: 0.3206 - accuracy: 0.9632\n",
            "Epoch 25/50\n",
            "657/657 [==============================] - 2s 4ms/step - loss: 0.3158 - accuracy: 0.9632\n",
            "Epoch 26/50\n",
            "657/657 [==============================] - 2s 4ms/step - loss: 0.3158 - accuracy: 0.9645\n",
            "Epoch 27/50\n",
            "657/657 [==============================] - 2s 4ms/step - loss: 0.3120 - accuracy: 0.9642\n",
            "Epoch 28/50\n",
            "657/657 [==============================] - 2s 4ms/step - loss: 0.3135 - accuracy: 0.9643\n",
            "Epoch 29/50\n",
            "657/657 [==============================] - 2s 4ms/step - loss: 0.3089 - accuracy: 0.9643\n",
            "Epoch 30/50\n",
            "657/657 [==============================] - 2s 4ms/step - loss: 0.3086 - accuracy: 0.9661\n",
            "Epoch 31/50\n",
            "657/657 [==============================] - 2s 4ms/step - loss: 0.3091 - accuracy: 0.9646\n",
            "Epoch 32/50\n",
            "657/657 [==============================] - 2s 4ms/step - loss: 0.3084 - accuracy: 0.9650\n",
            "Epoch 33/50\n",
            "657/657 [==============================] - 2s 4ms/step - loss: 0.3077 - accuracy: 0.9642\n",
            "Epoch 34/50\n",
            "657/657 [==============================] - 2s 4ms/step - loss: 0.3045 - accuracy: 0.9655\n",
            "Epoch 35/50\n",
            "657/657 [==============================] - 2s 4ms/step - loss: 0.3021 - accuracy: 0.9656\n",
            "Epoch 36/50\n",
            "657/657 [==============================] - 2s 4ms/step - loss: 0.3042 - accuracy: 0.9653\n",
            "Epoch 37/50\n",
            "657/657 [==============================] - 2s 4ms/step - loss: 0.3027 - accuracy: 0.9647\n",
            "Epoch 38/50\n",
            "657/657 [==============================] - 2s 4ms/step - loss: 0.2975 - accuracy: 0.9665\n",
            "Epoch 39/50\n",
            "657/657 [==============================] - 2s 4ms/step - loss: 0.2982 - accuracy: 0.9661\n",
            "Epoch 40/50\n",
            "657/657 [==============================] - 2s 4ms/step - loss: 0.2991 - accuracy: 0.9651\n",
            "Epoch 41/50\n",
            "657/657 [==============================] - 2s 4ms/step - loss: 0.2962 - accuracy: 0.9666\n",
            "Epoch 42/50\n",
            "657/657 [==============================] - 2s 4ms/step - loss: 0.2950 - accuracy: 0.9670\n",
            "Epoch 43/50\n",
            "657/657 [==============================] - 2s 4ms/step - loss: 0.2939 - accuracy: 0.9657\n",
            "Epoch 44/50\n",
            "657/657 [==============================] - 2s 4ms/step - loss: 0.2965 - accuracy: 0.9661\n",
            "Epoch 45/50\n",
            "657/657 [==============================] - 2s 4ms/step - loss: 0.2944 - accuracy: 0.9654\n",
            "Epoch 46/50\n",
            "657/657 [==============================] - 2s 4ms/step - loss: 0.2962 - accuracy: 0.9657\n",
            "Epoch 47/50\n",
            "657/657 [==============================] - 2s 4ms/step - loss: 0.2886 - accuracy: 0.9682\n",
            "Epoch 48/50\n",
            "657/657 [==============================] - 2s 4ms/step - loss: 0.2917 - accuracy: 0.9666\n",
            "Epoch 49/50\n",
            "657/657 [==============================] - 2s 4ms/step - loss: 0.2925 - accuracy: 0.9661\n",
            "Epoch 50/50\n",
            "657/657 [==============================] - 2s 4ms/step - loss: 0.2901 - accuracy: 0.9662\n"
          ],
          "name": "stdout"
        },
        {
          "output_type": "execute_result",
          "data": {
            "text/plain": [
              "<tensorflow.python.keras.callbacks.History at 0x7f702010ffd0>"
            ]
          },
          "metadata": {
            "tags": []
          },
          "execution_count": 86
        }
      ]
    },
    {
      "cell_type": "code",
      "metadata": {
        "id": "Mw2sOz_FWWsE"
      },
      "source": [
        "y_pred = model.predict(x_test_orig)"
      ],
      "execution_count": 87,
      "outputs": []
    },
    {
      "cell_type": "code",
      "metadata": {
        "id": "07Qwg1PaWqD1"
      },
      "source": [
        "y_pred_class = np.argmax(y_pred, axis = 1)"
      ],
      "execution_count": 88,
      "outputs": []
    },
    {
      "cell_type": "code",
      "metadata": {
        "id": "EUm4vroXarsc"
      },
      "source": [
        "submission_data = pd.read_csv('/content/sample_submission.csv')"
      ],
      "execution_count": 89,
      "outputs": []
    },
    {
      "cell_type": "code",
      "metadata": {
        "id": "D0onOxa-avqn"
      },
      "source": [
        "submission_data['Label']=y_pred_class"
      ],
      "execution_count": 90,
      "outputs": []
    },
    {
      "cell_type": "code",
      "metadata": {
        "id": "Sz8fRb17a6ix"
      },
      "source": [
        "submission_data.to_csv('submit2.csv' ,index=False)"
      ],
      "execution_count": 91,
      "outputs": []
    },
    {
      "cell_type": "code",
      "metadata": {
        "id": "aizsbnORbmKG"
      },
      "source": [
        "def test_output(i):\n",
        "  plt.imshow(x_train[i],cmap='gray')\n",
        "  predicted=np.argmax(model.predict(x_train_orig[i].reshape(-1,28,28,1)))\n",
        "  actual=np.argmax(label[i])\n",
        "  plt.xlabel(f'predicted= {predicted}  Actual= {actual}')"
      ],
      "execution_count": 65,
      "outputs": []
    },
    {
      "cell_type": "code",
      "metadata": {
        "colab": {
          "base_uri": "https://localhost:8080/",
          "height": 279
        },
        "id": "xpS4kJlJe1sV",
        "outputId": "faba25cf-38ef-4b6f-bc31-e9cc4579b0f3"
      },
      "source": [
        "test_output(15)"
      ],
      "execution_count": 66,
      "outputs": [
        {
          "output_type": "display_data",
          "data": {
            "image/png": "[encoded data removed]",
            "text/plain": [
              "<Figure size 432x288 with 1 Axes>"
            ]
          },
          "metadata": {
            "tags": [],
            "needs_background": "light"
          }
        }
      ]
    },
    {
      "cell_type": "code",
      "metadata": {
        "id": "_MqAJCg4r8wP"
      },
      "source": [
        ""
      ],
      "execution_count": null,
      "outputs": []
    }
  ]
}